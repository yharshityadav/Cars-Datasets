{
 "cells": [
  {
   "cell_type": "markdown",
   "id": "37a3b4c6",
   "metadata": {},
   "source": [
    "Importing the Recommended/Required libraries"
   ]
  },
  {
   "cell_type": "code",
   "execution_count": null,
   "id": "c3d51df3",
   "metadata": {},
   "outputs": [],
   "source": [
    "import pandas as pd \n",
    "import numpy as np \n",
    "import seaborn as sns\n",
    "import matplotlib.pyplot as plt"
   ]
  },
  {
   "cell_type": "code",
   "execution_count": null,
   "id": "e34133a0",
   "metadata": {},
   "outputs": [],
   "source": []
  }
 ],
 "metadata": {
  "kernelspec": {
   "display_name": "Python 3",
   "language": "python",
   "name": "python3"
  },
  "language_info": {
   "name": "python",
   "version": "3.12.1"
  }
 },
 "nbformat": 4,
 "nbformat_minor": 5
}
